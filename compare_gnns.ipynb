{
 "cells": [
  {
   "cell_type": "markdown",
   "metadata": {},
   "source": [
    "## Part1. Compare GNNs "
   ]
  },
  {
   "cell_type": "code",
   "execution_count": 1,
   "metadata": {},
   "outputs": [
    {
     "name": "stdout",
     "output_type": "stream",
     "text": [
      "/home/hy/Documents/Project/bitterants/\n"
     ]
    }
   ],
   "source": [
    "import os\n",
    "import pandas as pd\n",
    "import numpy as np\n",
    "from hgnn.load_data import load_data\n",
    "from hgnn.features import Graph_smiles\n",
    "from hgnn.trainers import train_gnn\n",
    "from hgnn.model import HGNNPredictor\n",
    "from contrast_gnns.GraphVAE import *\n",
    "from contrast_gnns.GraphTransformers import *\n",
    "from contrast_gnns.GraphSAGE import *\n",
    "from contrast_gnns.WLN import *\n",
    "from dgllife.model.model_zoo import AttentiveFPPredictor, PAGTNPredictor\n",
    "\n",
    "pwd = os.path.abspath('.')+'/'\n",
    "print(pwd)"
   ]
  },
  {
   "cell_type": "markdown",
   "metadata": {},
   "source": [
    "#### 1.1 Public Dataset Information"
   ]
  },
  {
   "cell_type": "code",
   "execution_count": 2,
   "metadata": {},
   "outputs": [
    {
     "name": "stdout",
     "output_type": "stream",
     "text": [
      "--------regress dataset---------\n",
      "dataset number min max\n",
      "delaney 1128 -11.6 1.58\n",
      "PDBbind 3040 -2.438032426 2.055143546\n",
      "FreeSolv 642 -25.47 3.43\n",
      "Lipop 4200 -1.5 4.5\n",
      "--------classify dataset---------\n",
      "dataset number number of 0 number of 1\n",
      "BACE 1513 822 691\n",
      "N6512 6506 3497 3009\n",
      "ClinTox2 1478 1366 112\n",
      "BBBP2 2039 1560 479\n"
     ]
    }
   ],
   "source": [
    "\"\"\"\n",
    "datasets are originally from:\n",
    "https://github.com/masashitsubaki/molecularGNN_smiles/tree/master\n",
    "https://github.com/shenwanxiang/ChemBench/tree/6master\n",
    "\"\"\"\n",
    "\n",
    "regress_datasets = ['delaney', 'PDBbind', 'FreeSolv', 'Lipop']\n",
    "classify_datasets = ['BACE', 'N6512', 'ClinTox2', 'BBBP2']\n",
    "regress_datasets_paths = [pwd+'dataset/public_dataset/regression/'+dataset+'.csv' for dataset in regress_datasets]\n",
    "classify_datasets_paths = [pwd+'dataset/public_dataset/classification/'+dataset+'.csv' for dataset in classify_datasets]\n",
    "\n",
    "\n",
    "print('--------regress dataset---------')\n",
    "print('dataset', 'number', 'min', 'max')\n",
    "for i,data_path in enumerate(regress_datasets_paths):\n",
    "    if os.path.exists(data_path):\n",
    "        df = pd.read_csv(data_path, header=0, sep='\\t')\n",
    "        print(regress_datasets[i], len(df), df['Label'].min(), df['Label'].max())\n",
    "\n",
    "print('--------classify dataset---------')\n",
    "print('dataset', 'number', 'number of 0', 'number of 1')\n",
    "for i,data_path in enumerate(classify_datasets_paths):\n",
    "    if os.path.exists(data_path):\n",
    "        df = pd.read_csv(data_path, header=0, sep='\\t')\n",
    "        print(classify_datasets[i], len(df), df['Label'].value_counts().to_list()[0], df['Label'].value_counts().to_list()[1])\n"
   ]
  },
  {
   "cell_type": "markdown",
   "metadata": {},
   "source": [
    "#### 1.2 Compare GNNs "
   ]
  },
  {
   "cell_type": "code",
   "execution_count": 3,
   "metadata": {},
   "outputs": [],
   "source": [
    "combinations = []\n",
    "for  i in [True,False]:\n",
    "    for  j in [True,False]:\n",
    "        for  k in [True,False]:\n",
    "            for  l in [True,False]:\n",
    "                combinations.append([i,j,k,l])\n",
    "n_node_feats = 74\n",
    "n_edge_feats = 12 \n",
    "repeats = 5"
   ]
  },
  {
   "cell_type": "markdown",
   "metadata": {},
   "source": [
    "##### 1.2.1 classify"
   ]
  },
  {
   "cell_type": "code",
   "execution_count": 4,
   "metadata": {},
   "outputs": [
    {
     "name": "stdout",
     "output_type": "stream",
     "text": [
      "repeat 0\n",
      "start train:  BACE\n"
     ]
    },
    {
     "name": "stderr",
     "output_type": "stream",
     "text": [
      "/home/hy/Softwares/Program/miniconda3/envs/ml/lib/python3.8/site-packages/dgl/heterograph.py:72: DGLWarning: Recommend creating graphs by `dgl.graph(data)` instead of `dgl.DGLGraph(data)`.\n",
      "  dgl_warning('Recommend creating graphs by `dgl.graph(data)`'\n"
     ]
    },
    {
     "name": "stdout",
     "output_type": "stream",
     "text": [
      "start train:  N6512\n"
     ]
    },
    {
     "name": "stderr",
     "output_type": "stream",
     "text": [
      "/home/hy/Softwares/Program/miniconda3/envs/ml/lib/python3.8/site-packages/dgl/heterograph.py:72: DGLWarning: Recommend creating graphs by `dgl.graph(data)` instead of `dgl.DGLGraph(data)`.\n",
      "  dgl_warning('Recommend creating graphs by `dgl.graph(data)`'\n"
     ]
    },
    {
     "name": "stdout",
     "output_type": "stream",
     "text": [
      "start train:  ClinTox2\n"
     ]
    },
    {
     "name": "stderr",
     "output_type": "stream",
     "text": [
      "/home/hy/Softwares/Program/miniconda3/envs/ml/lib/python3.8/site-packages/dgl/heterograph.py:72: DGLWarning: Recommend creating graphs by `dgl.graph(data)` instead of `dgl.DGLGraph(data)`.\n",
      "  dgl_warning('Recommend creating graphs by `dgl.graph(data)`'\n"
     ]
    },
    {
     "name": "stdout",
     "output_type": "stream",
     "text": [
      "start train:  BBBP2\n"
     ]
    },
    {
     "name": "stderr",
     "output_type": "stream",
     "text": [
      "/home/hy/Softwares/Program/miniconda3/envs/ml/lib/python3.8/site-packages/dgl/heterograph.py:72: DGLWarning: Recommend creating graphs by `dgl.graph(data)` instead of `dgl.DGLGraph(data)`.\n",
      "  dgl_warning('Recommend creating graphs by `dgl.graph(data)`'\n"
     ]
    },
    {
     "name": "stdout",
     "output_type": "stream",
     "text": [
      "repeat 1\n",
      "start train:  BACE\n"
     ]
    },
    {
     "name": "stderr",
     "output_type": "stream",
     "text": [
      "/home/hy/Softwares/Program/miniconda3/envs/ml/lib/python3.8/site-packages/dgl/heterograph.py:72: DGLWarning: Recommend creating graphs by `dgl.graph(data)` instead of `dgl.DGLGraph(data)`.\n",
      "  dgl_warning('Recommend creating graphs by `dgl.graph(data)`'\n"
     ]
    },
    {
     "name": "stdout",
     "output_type": "stream",
     "text": [
      "start train:  N6512\n"
     ]
    },
    {
     "name": "stderr",
     "output_type": "stream",
     "text": [
      "/home/hy/Softwares/Program/miniconda3/envs/ml/lib/python3.8/site-packages/dgl/heterograph.py:72: DGLWarning: Recommend creating graphs by `dgl.graph(data)` instead of `dgl.DGLGraph(data)`.\n",
      "  dgl_warning('Recommend creating graphs by `dgl.graph(data)`'\n"
     ]
    },
    {
     "name": "stdout",
     "output_type": "stream",
     "text": [
      "start train:  ClinTox2\n"
     ]
    },
    {
     "name": "stderr",
     "output_type": "stream",
     "text": [
      "/home/hy/Softwares/Program/miniconda3/envs/ml/lib/python3.8/site-packages/dgl/heterograph.py:72: DGLWarning: Recommend creating graphs by `dgl.graph(data)` instead of `dgl.DGLGraph(data)`.\n",
      "  dgl_warning('Recommend creating graphs by `dgl.graph(data)`'\n"
     ]
    },
    {
     "name": "stdout",
     "output_type": "stream",
     "text": [
      "start train:  BBBP2\n"
     ]
    },
    {
     "name": "stderr",
     "output_type": "stream",
     "text": [
      "/home/hy/Softwares/Program/miniconda3/envs/ml/lib/python3.8/site-packages/dgl/heterograph.py:72: DGLWarning: Recommend creating graphs by `dgl.graph(data)` instead of `dgl.DGLGraph(data)`.\n",
      "  dgl_warning('Recommend creating graphs by `dgl.graph(data)`'\n"
     ]
    },
    {
     "name": "stdout",
     "output_type": "stream",
     "text": [
      "repeat 2\n",
      "start train:  BACE\n"
     ]
    },
    {
     "name": "stderr",
     "output_type": "stream",
     "text": [
      "/home/hy/Softwares/Program/miniconda3/envs/ml/lib/python3.8/site-packages/dgl/heterograph.py:72: DGLWarning: Recommend creating graphs by `dgl.graph(data)` instead of `dgl.DGLGraph(data)`.\n",
      "  dgl_warning('Recommend creating graphs by `dgl.graph(data)`'\n"
     ]
    },
    {
     "name": "stdout",
     "output_type": "stream",
     "text": [
      "start train:  N6512\n"
     ]
    },
    {
     "name": "stderr",
     "output_type": "stream",
     "text": [
      "/home/hy/Softwares/Program/miniconda3/envs/ml/lib/python3.8/site-packages/dgl/heterograph.py:72: DGLWarning: Recommend creating graphs by `dgl.graph(data)` instead of `dgl.DGLGraph(data)`.\n",
      "  dgl_warning('Recommend creating graphs by `dgl.graph(data)`'\n"
     ]
    },
    {
     "name": "stdout",
     "output_type": "stream",
     "text": [
      "start train:  ClinTox2\n"
     ]
    },
    {
     "name": "stderr",
     "output_type": "stream",
     "text": [
      "/home/hy/Softwares/Program/miniconda3/envs/ml/lib/python3.8/site-packages/dgl/heterograph.py:72: DGLWarning: Recommend creating graphs by `dgl.graph(data)` instead of `dgl.DGLGraph(data)`.\n",
      "  dgl_warning('Recommend creating graphs by `dgl.graph(data)`'\n"
     ]
    },
    {
     "name": "stdout",
     "output_type": "stream",
     "text": [
      "start train:  BBBP2\n"
     ]
    },
    {
     "name": "stderr",
     "output_type": "stream",
     "text": [
      "/home/hy/Softwares/Program/miniconda3/envs/ml/lib/python3.8/site-packages/dgl/heterograph.py:72: DGLWarning: Recommend creating graphs by `dgl.graph(data)` instead of `dgl.DGLGraph(data)`.\n",
      "  dgl_warning('Recommend creating graphs by `dgl.graph(data)`'\n"
     ]
    },
    {
     "name": "stdout",
     "output_type": "stream",
     "text": [
      "repeat 3\n",
      "start train:  BACE\n"
     ]
    },
    {
     "name": "stderr",
     "output_type": "stream",
     "text": [
      "/home/hy/Softwares/Program/miniconda3/envs/ml/lib/python3.8/site-packages/dgl/heterograph.py:72: DGLWarning: Recommend creating graphs by `dgl.graph(data)` instead of `dgl.DGLGraph(data)`.\n",
      "  dgl_warning('Recommend creating graphs by `dgl.graph(data)`'\n"
     ]
    },
    {
     "name": "stdout",
     "output_type": "stream",
     "text": [
      "start train:  N6512\n"
     ]
    },
    {
     "name": "stderr",
     "output_type": "stream",
     "text": [
      "/home/hy/Softwares/Program/miniconda3/envs/ml/lib/python3.8/site-packages/dgl/heterograph.py:72: DGLWarning: Recommend creating graphs by `dgl.graph(data)` instead of `dgl.DGLGraph(data)`.\n",
      "  dgl_warning('Recommend creating graphs by `dgl.graph(data)`'\n"
     ]
    },
    {
     "name": "stdout",
     "output_type": "stream",
     "text": [
      "start train:  ClinTox2\n"
     ]
    },
    {
     "name": "stderr",
     "output_type": "stream",
     "text": [
      "/home/hy/Softwares/Program/miniconda3/envs/ml/lib/python3.8/site-packages/dgl/heterograph.py:72: DGLWarning: Recommend creating graphs by `dgl.graph(data)` instead of `dgl.DGLGraph(data)`.\n",
      "  dgl_warning('Recommend creating graphs by `dgl.graph(data)`'\n"
     ]
    },
    {
     "name": "stdout",
     "output_type": "stream",
     "text": [
      "start train:  BBBP2\n"
     ]
    },
    {
     "name": "stderr",
     "output_type": "stream",
     "text": [
      "/home/hy/Softwares/Program/miniconda3/envs/ml/lib/python3.8/site-packages/dgl/heterograph.py:72: DGLWarning: Recommend creating graphs by `dgl.graph(data)` instead of `dgl.DGLGraph(data)`.\n",
      "  dgl_warning('Recommend creating graphs by `dgl.graph(data)`'\n"
     ]
    },
    {
     "name": "stdout",
     "output_type": "stream",
     "text": [
      "repeat 4\n",
      "start train:  BACE\n"
     ]
    },
    {
     "name": "stderr",
     "output_type": "stream",
     "text": [
      "/home/hy/Softwares/Program/miniconda3/envs/ml/lib/python3.8/site-packages/dgl/heterograph.py:72: DGLWarning: Recommend creating graphs by `dgl.graph(data)` instead of `dgl.DGLGraph(data)`.\n",
      "  dgl_warning('Recommend creating graphs by `dgl.graph(data)`'\n"
     ]
    },
    {
     "name": "stdout",
     "output_type": "stream",
     "text": [
      "start train:  N6512\n"
     ]
    },
    {
     "name": "stderr",
     "output_type": "stream",
     "text": [
      "/home/hy/Softwares/Program/miniconda3/envs/ml/lib/python3.8/site-packages/dgl/heterograph.py:72: DGLWarning: Recommend creating graphs by `dgl.graph(data)` instead of `dgl.DGLGraph(data)`.\n",
      "  dgl_warning('Recommend creating graphs by `dgl.graph(data)`'\n"
     ]
    },
    {
     "name": "stdout",
     "output_type": "stream",
     "text": [
      "start train:  ClinTox2\n"
     ]
    },
    {
     "name": "stderr",
     "output_type": "stream",
     "text": [
      "/home/hy/Softwares/Program/miniconda3/envs/ml/lib/python3.8/site-packages/dgl/heterograph.py:72: DGLWarning: Recommend creating graphs by `dgl.graph(data)` instead of `dgl.DGLGraph(data)`.\n",
      "  dgl_warning('Recommend creating graphs by `dgl.graph(data)`'\n"
     ]
    },
    {
     "name": "stdout",
     "output_type": "stream",
     "text": [
      "start train:  BBBP2\n"
     ]
    },
    {
     "name": "stderr",
     "output_type": "stream",
     "text": [
      "/home/hy/Softwares/Program/miniconda3/envs/ml/lib/python3.8/site-packages/dgl/heterograph.py:72: DGLWarning: Recommend creating graphs by `dgl.graph(data)` instead of `dgl.DGLGraph(data)`.\n",
      "  dgl_warning('Recommend creating graphs by `dgl.graph(data)`'\n"
     ]
    }
   ],
   "source": [
    "classify_results = []\n",
    "n_tasks = 2\n",
    "\n",
    "for repeat in range(repeats):\n",
    "    print(\"repeat {}\".format(repeat))\n",
    "    for dataset_idx,data_path in enumerate(classify_datasets_paths):\n",
    "        print(\"start train: \", classify_datasets[dataset_idx])\n",
    "        df = pd.read_csv(data_path, header=0, sep='\\t')\n",
    "        tuple_ls = list(zip(list(df['Smiles']), list(df['Label'])))\n",
    "        batchsize = int(len(tuple_ls)/16)\n",
    "        kfolds = load_data(tuple_ls, featurizer=Graph_smiles, if_all=False, Stratify=True, if_torch=True, batchsize=batchsize, graph=True, drop_last=True)\n",
    "        # 16 modular designed models\n",
    "        for combination in combinations:\n",
    "            model = HGNNPredictor(\n",
    "                                node_gat = combination[0], \n",
    "                                edge_gat = combination[1], \n",
    "                                weave = combination[2], \n",
    "                                mpnn = combination[3], \n",
    "                                n_node_feats=n_node_feats, n_edge_feats=n_edge_feats, num_layers=2, n_heads=5, n_hidden_feats=100, activation=F.relu, attn_activation=nn.LeakyReLU(negative_slope=0.2), attn_dropout=0, feat_dropout=0, xavier_normal=False, n_tasks=n_tasks,\n",
    "                                )\n",
    "            rst = train_gnn.train_bi_classify_kfolds(model, kfolds=kfolds, edge=True, max_epochs=500, patience=7, save_folder=pwd+'/pretrained/',save_name='gnn.pth')\n",
    "            classify_results.append(rst)\n",
    "        # other 5 models\n",
    "        model = WLNPredictor(node_in_feats=n_node_feats, edge_in_feats=n_edge_feats, node_out_feats=100, n_layers=2, project_in_feats=True, set_comparison=True, n_tasks=n_tasks)\n",
    "        rst = train_gnn.train_bi_classify_kfolds(model, kfolds=kfolds, edge=True, max_epochs=500, patience=7, save_folder=pwd+'/pretrained/',save_name='gnn.pth')\n",
    "        classify_results.append(rst)\n",
    "\n",
    "        model = PAGTNPredictor(node_in_feats=n_node_feats, node_hid_feats=100, node_out_feats=100, edge_feats=n_edge_feats, depth=2, nheads=5, dropout=0.1, activation=nn.LeakyReLU(0.2), n_tasks=n_tasks, mode='sum') \n",
    "        rst = train_gnn.train_bi_classify_kfolds(model, kfolds=kfolds, edge=True, max_epochs=500, patience=7, save_folder=pwd+'/pretrained/',save_name='gnn.pth')\n",
    "        classify_results.append(rst)\n",
    "\n",
    "        model = AttentiveFPPredictor(node_feat_size=n_node_feats,edge_feat_size=n_edge_feats,num_layers=2,num_timesteps=2,graph_feat_size=100,n_tasks=n_tasks,dropout=0.) \n",
    "        rst = train_gnn.train_bi_classify_kfolds(model, kfolds=kfolds, edge=True, max_epochs=500, patience=7, save_folder=pwd+'/pretrained/',save_name='gnn.pth')\n",
    "        classify_results.append(rst)\n",
    "\n",
    "        model = GraphTransformerPredictor(in_dim=n_node_feats, hidden_dim=100, out_dim=100, n_tasks=n_tasks, num_layers=2, num_heads=5)\n",
    "        rst = train_gnn.train_bi_classify_kfolds(model, kfolds=kfolds, edge=False, max_epochs=500, patience=7, save_folder=pwd+'/pretrained/',save_name='gnn.pth')\n",
    "        classify_results.append(rst)\n",
    "        \n",
    "        model = GraphSAGEPredictor(in_feats=n_node_feats, hidden_feats=[100,100], activation=None, dropout=None, aggregator_type=None, n_tasks=n_tasks)\n",
    "        rst = train_gnn.train_bi_classify_kfolds(model, kfolds=kfolds, edge=False, max_epochs=500, patience=7, save_folder=pwd+'/pretrained/',save_name='gnn.pth')\n",
    "        classify_results.append(rst)\n",
    "np.savetxt(pwd+\"/results/compare_gnn/classify.txt\", np.array(classify_results))"
   ]
  },
  {
   "cell_type": "markdown",
   "metadata": {},
   "source": [
    "##### 1.2.2 regress"
   ]
  },
  {
   "cell_type": "code",
   "execution_count": 5,
   "metadata": {},
   "outputs": [
    {
     "name": "stdout",
     "output_type": "stream",
     "text": [
      "repeat 0\n",
      "start train:  delaney\n"
     ]
    },
    {
     "name": "stderr",
     "output_type": "stream",
     "text": [
      "/home/hy/Softwares/Program/miniconda3/envs/ml/lib/python3.8/site-packages/dgl/heterograph.py:72: DGLWarning: Recommend creating graphs by `dgl.graph(data)` instead of `dgl.DGLGraph(data)`.\n",
      "  dgl_warning('Recommend creating graphs by `dgl.graph(data)`'\n"
     ]
    },
    {
     "name": "stdout",
     "output_type": "stream",
     "text": [
      "start train:  PDBbind\n"
     ]
    },
    {
     "name": "stderr",
     "output_type": "stream",
     "text": [
      "/home/hy/Softwares/Program/miniconda3/envs/ml/lib/python3.8/site-packages/dgl/heterograph.py:72: DGLWarning: Recommend creating graphs by `dgl.graph(data)` instead of `dgl.DGLGraph(data)`.\n",
      "  dgl_warning('Recommend creating graphs by `dgl.graph(data)`'\n"
     ]
    },
    {
     "name": "stdout",
     "output_type": "stream",
     "text": [
      "start train:  FreeSolv\n"
     ]
    },
    {
     "name": "stderr",
     "output_type": "stream",
     "text": [
      "/home/hy/Softwares/Program/miniconda3/envs/ml/lib/python3.8/site-packages/dgl/heterograph.py:72: DGLWarning: Recommend creating graphs by `dgl.graph(data)` instead of `dgl.DGLGraph(data)`.\n",
      "  dgl_warning('Recommend creating graphs by `dgl.graph(data)`'\n"
     ]
    },
    {
     "name": "stdout",
     "output_type": "stream",
     "text": [
      "start train:  Lipop\n"
     ]
    },
    {
     "name": "stderr",
     "output_type": "stream",
     "text": [
      "/home/hy/Softwares/Program/miniconda3/envs/ml/lib/python3.8/site-packages/dgl/heterograph.py:72: DGLWarning: Recommend creating graphs by `dgl.graph(data)` instead of `dgl.DGLGraph(data)`.\n",
      "  dgl_warning('Recommend creating graphs by `dgl.graph(data)`'\n"
     ]
    },
    {
     "name": "stdout",
     "output_type": "stream",
     "text": [
      "repeat 1\n",
      "start train:  delaney\n"
     ]
    },
    {
     "name": "stderr",
     "output_type": "stream",
     "text": [
      "/home/hy/Softwares/Program/miniconda3/envs/ml/lib/python3.8/site-packages/dgl/heterograph.py:72: DGLWarning: Recommend creating graphs by `dgl.graph(data)` instead of `dgl.DGLGraph(data)`.\n",
      "  dgl_warning('Recommend creating graphs by `dgl.graph(data)`'\n"
     ]
    },
    {
     "name": "stdout",
     "output_type": "stream",
     "text": [
      "start train:  PDBbind\n"
     ]
    },
    {
     "name": "stderr",
     "output_type": "stream",
     "text": [
      "/home/hy/Softwares/Program/miniconda3/envs/ml/lib/python3.8/site-packages/dgl/heterograph.py:72: DGLWarning: Recommend creating graphs by `dgl.graph(data)` instead of `dgl.DGLGraph(data)`.\n",
      "  dgl_warning('Recommend creating graphs by `dgl.graph(data)`'\n"
     ]
    },
    {
     "name": "stdout",
     "output_type": "stream",
     "text": [
      "start train:  FreeSolv\n"
     ]
    },
    {
     "name": "stderr",
     "output_type": "stream",
     "text": [
      "/home/hy/Softwares/Program/miniconda3/envs/ml/lib/python3.8/site-packages/dgl/heterograph.py:72: DGLWarning: Recommend creating graphs by `dgl.graph(data)` instead of `dgl.DGLGraph(data)`.\n",
      "  dgl_warning('Recommend creating graphs by `dgl.graph(data)`'\n"
     ]
    },
    {
     "name": "stdout",
     "output_type": "stream",
     "text": [
      "start train:  Lipop\n"
     ]
    },
    {
     "name": "stderr",
     "output_type": "stream",
     "text": [
      "/home/hy/Softwares/Program/miniconda3/envs/ml/lib/python3.8/site-packages/dgl/heterograph.py:72: DGLWarning: Recommend creating graphs by `dgl.graph(data)` instead of `dgl.DGLGraph(data)`.\n",
      "  dgl_warning('Recommend creating graphs by `dgl.graph(data)`'\n"
     ]
    },
    {
     "name": "stdout",
     "output_type": "stream",
     "text": [
      "repeat 2\n",
      "start train:  delaney\n"
     ]
    },
    {
     "name": "stderr",
     "output_type": "stream",
     "text": [
      "/home/hy/Softwares/Program/miniconda3/envs/ml/lib/python3.8/site-packages/dgl/heterograph.py:72: DGLWarning: Recommend creating graphs by `dgl.graph(data)` instead of `dgl.DGLGraph(data)`.\n",
      "  dgl_warning('Recommend creating graphs by `dgl.graph(data)`'\n"
     ]
    },
    {
     "name": "stdout",
     "output_type": "stream",
     "text": [
      "start train:  PDBbind\n"
     ]
    },
    {
     "name": "stderr",
     "output_type": "stream",
     "text": [
      "/home/hy/Softwares/Program/miniconda3/envs/ml/lib/python3.8/site-packages/dgl/heterograph.py:72: DGLWarning: Recommend creating graphs by `dgl.graph(data)` instead of `dgl.DGLGraph(data)`.\n",
      "  dgl_warning('Recommend creating graphs by `dgl.graph(data)`'\n"
     ]
    },
    {
     "name": "stdout",
     "output_type": "stream",
     "text": [
      "start train:  FreeSolv\n"
     ]
    },
    {
     "name": "stderr",
     "output_type": "stream",
     "text": [
      "/home/hy/Softwares/Program/miniconda3/envs/ml/lib/python3.8/site-packages/dgl/heterograph.py:72: DGLWarning: Recommend creating graphs by `dgl.graph(data)` instead of `dgl.DGLGraph(data)`.\n",
      "  dgl_warning('Recommend creating graphs by `dgl.graph(data)`'\n"
     ]
    },
    {
     "name": "stdout",
     "output_type": "stream",
     "text": [
      "start train:  Lipop\n"
     ]
    },
    {
     "name": "stderr",
     "output_type": "stream",
     "text": [
      "/home/hy/Softwares/Program/miniconda3/envs/ml/lib/python3.8/site-packages/dgl/heterograph.py:72: DGLWarning: Recommend creating graphs by `dgl.graph(data)` instead of `dgl.DGLGraph(data)`.\n",
      "  dgl_warning('Recommend creating graphs by `dgl.graph(data)`'\n"
     ]
    },
    {
     "name": "stdout",
     "output_type": "stream",
     "text": [
      "repeat 3\n",
      "start train:  delaney\n"
     ]
    },
    {
     "name": "stderr",
     "output_type": "stream",
     "text": [
      "/home/hy/Softwares/Program/miniconda3/envs/ml/lib/python3.8/site-packages/dgl/heterograph.py:72: DGLWarning: Recommend creating graphs by `dgl.graph(data)` instead of `dgl.DGLGraph(data)`.\n",
      "  dgl_warning('Recommend creating graphs by `dgl.graph(data)`'\n"
     ]
    },
    {
     "name": "stdout",
     "output_type": "stream",
     "text": [
      "start train:  PDBbind\n"
     ]
    },
    {
     "name": "stderr",
     "output_type": "stream",
     "text": [
      "/home/hy/Softwares/Program/miniconda3/envs/ml/lib/python3.8/site-packages/dgl/heterograph.py:72: DGLWarning: Recommend creating graphs by `dgl.graph(data)` instead of `dgl.DGLGraph(data)`.\n",
      "  dgl_warning('Recommend creating graphs by `dgl.graph(data)`'\n"
     ]
    },
    {
     "name": "stdout",
     "output_type": "stream",
     "text": [
      "start train:  FreeSolv\n"
     ]
    },
    {
     "name": "stderr",
     "output_type": "stream",
     "text": [
      "/home/hy/Softwares/Program/miniconda3/envs/ml/lib/python3.8/site-packages/dgl/heterograph.py:72: DGLWarning: Recommend creating graphs by `dgl.graph(data)` instead of `dgl.DGLGraph(data)`.\n",
      "  dgl_warning('Recommend creating graphs by `dgl.graph(data)`'\n"
     ]
    },
    {
     "name": "stdout",
     "output_type": "stream",
     "text": [
      "start train:  Lipop\n"
     ]
    },
    {
     "name": "stderr",
     "output_type": "stream",
     "text": [
      "/home/hy/Softwares/Program/miniconda3/envs/ml/lib/python3.8/site-packages/dgl/heterograph.py:72: DGLWarning: Recommend creating graphs by `dgl.graph(data)` instead of `dgl.DGLGraph(data)`.\n",
      "  dgl_warning('Recommend creating graphs by `dgl.graph(data)`'\n"
     ]
    },
    {
     "name": "stdout",
     "output_type": "stream",
     "text": [
      "repeat 4\n",
      "start train:  delaney\n"
     ]
    },
    {
     "name": "stderr",
     "output_type": "stream",
     "text": [
      "/home/hy/Softwares/Program/miniconda3/envs/ml/lib/python3.8/site-packages/dgl/heterograph.py:72: DGLWarning: Recommend creating graphs by `dgl.graph(data)` instead of `dgl.DGLGraph(data)`.\n",
      "  dgl_warning('Recommend creating graphs by `dgl.graph(data)`'\n"
     ]
    },
    {
     "name": "stdout",
     "output_type": "stream",
     "text": [
      "start train:  PDBbind\n"
     ]
    },
    {
     "name": "stderr",
     "output_type": "stream",
     "text": [
      "/home/hy/Softwares/Program/miniconda3/envs/ml/lib/python3.8/site-packages/dgl/heterograph.py:72: DGLWarning: Recommend creating graphs by `dgl.graph(data)` instead of `dgl.DGLGraph(data)`.\n",
      "  dgl_warning('Recommend creating graphs by `dgl.graph(data)`'\n"
     ]
    },
    {
     "name": "stdout",
     "output_type": "stream",
     "text": [
      "start train:  FreeSolv\n"
     ]
    },
    {
     "name": "stderr",
     "output_type": "stream",
     "text": [
      "/home/hy/Softwares/Program/miniconda3/envs/ml/lib/python3.8/site-packages/dgl/heterograph.py:72: DGLWarning: Recommend creating graphs by `dgl.graph(data)` instead of `dgl.DGLGraph(data)`.\n",
      "  dgl_warning('Recommend creating graphs by `dgl.graph(data)`'\n"
     ]
    },
    {
     "name": "stdout",
     "output_type": "stream",
     "text": [
      "start train:  Lipop\n"
     ]
    },
    {
     "name": "stderr",
     "output_type": "stream",
     "text": [
      "/home/hy/Softwares/Program/miniconda3/envs/ml/lib/python3.8/site-packages/dgl/heterograph.py:72: DGLWarning: Recommend creating graphs by `dgl.graph(data)` instead of `dgl.DGLGraph(data)`.\n",
      "  dgl_warning('Recommend creating graphs by `dgl.graph(data)`'\n"
     ]
    }
   ],
   "source": [
    "regress_results = []\n",
    "n_tasks = 1\n",
    "\n",
    "for repeat in range(repeats):\n",
    "    print(\"repeat {}\".format(repeat))\n",
    "    for dataset_idx,data_path in enumerate(regress_datasets_paths):\n",
    "        print(\"start train: \", regress_datasets[dataset_idx])\n",
    "        df = pd.read_csv(data_path, header=0, sep='\\t')\n",
    "        tuple_ls = list(zip(list(df['Smiles']), list(df['Label'])))\n",
    "        batchsize = int(len(tuple_ls)/16)\n",
    "        kfolds = load_data(tuple_ls, featurizer=Graph_smiles, if_all=False, Stratify=False, if_torch=True, batchsize=batchsize, graph=True, drop_last=False)\n",
    "\n",
    "        # 16 modular designed models\n",
    "        for combination in combinations:\n",
    "            model = HGNNPredictor(\n",
    "                                node_gat = combination[0], \n",
    "                                edge_gat = combination[1], \n",
    "                                weave = combination[2], \n",
    "                                mpnn = combination[3], \n",
    "                                n_node_feats=n_node_feats, n_edge_feats=n_edge_feats, num_layers=2, n_heads=5, n_hidden_feats=100, activation=F.relu, attn_activation=nn.LeakyReLU(negative_slope=0.2), attn_dropout=0, feat_dropout=0, xavier_normal=False, n_tasks=n_tasks,\n",
    "                                )\n",
    "            rst = train_gnn.train_regress_kfolds(model, kfolds=kfolds, edge=True, max_epochs=500, patience=7, save_folder=pwd+'/pretrained/',save_name='gnn.pth')\n",
    "            regress_results.append(rst)\n",
    "        # other 5 models\n",
    "        model = WLNPredictor(node_in_feats=n_node_feats, edge_in_feats=n_edge_feats, node_out_feats=100, n_layers=2, project_in_feats=True, set_comparison=True, n_tasks=n_tasks)\n",
    "        rst = train_gnn.train_regress_kfolds(model, kfolds=kfolds, edge=True, max_epochs=500, patience=7, save_folder=pwd+'/pretrained/',save_name='gnn.pth')\n",
    "        regress_results.append(rst)\n",
    "\n",
    "        model = PAGTNPredictor(node_in_feats=n_node_feats, node_hid_feats=100, node_out_feats=100, edge_feats=n_edge_feats, depth=2, nheads=5, dropout=0.1, activation=nn.LeakyReLU(0.2), n_tasks=n_tasks, mode='sum') \n",
    "        rst = train_gnn.train_regress_kfolds(model, kfolds=kfolds, edge=True, max_epochs=500, patience=7, save_folder=pwd+'/pretrained/',save_name='gnn.pth')\n",
    "        regress_results.append(rst)\n",
    "\n",
    "        model = AttentiveFPPredictor(node_feat_size=n_node_feats,edge_feat_size=n_edge_feats,num_layers=2,num_timesteps=2,graph_feat_size=100,n_tasks=n_tasks,dropout=0.) \n",
    "        rst = train_gnn.train_regress_kfolds(model, kfolds=kfolds, edge=True, max_epochs=500, patience=7, save_folder=pwd+'/pretrained/',save_name='gnn.pth')\n",
    "        regress_results.append(rst)\n",
    "\n",
    "        model = GraphTransformerPredictor(in_dim=n_node_feats, hidden_dim=100, out_dim=100, n_tasks=n_tasks, num_layers=2, num_heads=5)\n",
    "        rst = train_gnn.train_regress_kfolds(model, kfolds=kfolds, edge=False, max_epochs=500, patience=7, save_folder=pwd+'/pretrained/',save_name='gnn.pth')\n",
    "        regress_results.append(rst)\n",
    "        \n",
    "        model = GraphSAGEPredictor(in_feats=n_node_feats, hidden_feats=[100,100], activation=None, dropout=None, aggregator_type=None, n_tasks=n_tasks)\n",
    "        rst = train_gnn.train_regress_kfolds(model, kfolds=kfolds, edge=False, max_epochs=500, patience=7, save_folder=pwd+'/pretrained/',save_name='gnn.pth')\n",
    "        regress_results.append(rst)\n",
    "np.savetxt(pwd+\"/results/compare_gnn/regress.txt\", np.array(regress_results))"
   ]
  },
  {
   "cell_type": "markdown",
   "metadata": {},
   "source": [
    "#### 1.3 Plot"
   ]
  },
  {
   "cell_type": "code",
   "execution_count": 7,
   "metadata": {},
   "outputs": [
    {
     "ename": "AttributeError",
     "evalue": "'list' object has no attribute 'shape'",
     "output_type": "error",
     "traceback": [
      "\u001b[0;31m---------------------------------------------------------------------------\u001b[0m",
      "\u001b[0;31mAttributeError\u001b[0m                            Traceback (most recent call last)",
      "\u001b[1;32m/home/hy/Documents/Project/bitterants/compare_gnns.ipynb Cell 12\u001b[0m line \u001b[0;36m6\n\u001b[1;32m      <a href='vscode-notebook-cell:/home/hy/Documents/Project/bitterants/compare_gnns.ipynb#X23sZmlsZQ%3D%3D?line=2'>3</a>\u001b[0m classify_labels \u001b[39m=\u001b[39m [\u001b[39m\"\u001b[39m\u001b[39mACC\u001b[39m\u001b[39m\"\u001b[39m, \u001b[39m\"\u001b[39m\u001b[39mAP\u001b[39m\u001b[39m\"\u001b[39m, \u001b[39m\"\u001b[39m\u001b[39mF1\u001b[39m\u001b[39m\"\u001b[39m, \u001b[39m\"\u001b[39m\u001b[39mMCC\u001b[39m\u001b[39m\"\u001b[39m,\u001b[39m\"\u001b[39m\u001b[39mAUC\u001b[39m\u001b[39m\"\u001b[39m]\n\u001b[1;32m      <a href='vscode-notebook-cell:/home/hy/Documents/Project/bitterants/compare_gnns.ipynb#X23sZmlsZQ%3D%3D?line=3'>4</a>\u001b[0m models \u001b[39m=\u001b[39m [\u001b[39mf\u001b[39m\u001b[39m\"\u001b[39m\u001b[39mM\u001b[39m\u001b[39m{\u001b[39;00mi\u001b[39m}\u001b[39;00m\u001b[39m\"\u001b[39m \u001b[39mfor\u001b[39;00m i \u001b[39min\u001b[39;00m \u001b[39mrange\u001b[39m(\u001b[39m1\u001b[39m,\u001b[39m17\u001b[39m)] \u001b[39m+\u001b[39m [\u001b[39m\"\u001b[39m\u001b[39mC1\u001b[39m\u001b[39m\"\u001b[39m, \u001b[39m\"\u001b[39m\u001b[39mC2\u001b[39m\u001b[39m\"\u001b[39m,\u001b[39m\"\u001b[39m\u001b[39mC3\u001b[39m\u001b[39m\"\u001b[39m, \u001b[39m\"\u001b[39m\u001b[39mC4\u001b[39m\u001b[39m\"\u001b[39m, \u001b[39m\"\u001b[39m\u001b[39mC5\u001b[39m\u001b[39m\"\u001b[39m]\n\u001b[0;32m----> <a href='vscode-notebook-cell:/home/hy/Documents/Project/bitterants/compare_gnns.ipynb#X23sZmlsZQ%3D%3D?line=5'>6</a>\u001b[0m \u001b[39mprint\u001b[39m(regress_results\u001b[39m.\u001b[39;49mshape)\n\u001b[1;32m      <a href='vscode-notebook-cell:/home/hy/Documents/Project/bitterants/compare_gnns.ipynb#X23sZmlsZQ%3D%3D?line=6'>7</a>\u001b[0m \u001b[39mprint\u001b[39m(classify_results\u001b[39m.\u001b[39mshape)\n",
      "\u001b[0;31mAttributeError\u001b[0m: 'list' object has no attribute 'shape'"
     ]
    }
   ],
   "source": [
    "import matplotlib.pyplot as plt\n",
    "regress_labels = [\"R2\", \"MAE\", \"RMSE\"]\n",
    "classify_labels = [\"ACC\", \"AP\", \"F1\", \"MCC\",\"AUC\"]\n",
    "models = [f\"M{i}\" for i in range(1,17)] + [\"C1\", \"C2\",\"C3\", \"C4\", \"C5\"]\n",
    "\n",
    "print(regress_results.shape)\n",
    "print(classify_results.shape)\n",
    "\n",
    "regress_results= np.array(regress_results)\n",
    "classify_results = np.array(classify_results)\n",
    "regress_plot_data = np.concatenate((regress_results[:,:,:2], np.expand_dims(regress_results[:,:,-1],-1)), -1)\n",
    "classify_plot_data = classify_results[:,:,-5:]\n",
    "print(regress_plot_data.shape)\n",
    "print(classify_plot_data.shape)\n",
    "\n",
    "regress_datasets = ['delaney', 'PDBbind', 'FreeSolv', 'Lipop']\n",
    "classify_datasets = ['BACE', 'N6512', 'ClinTox2', 'BBBP2']\n"
   ]
  },
  {
   "cell_type": "code",
   "execution_count": null,
   "metadata": {},
   "outputs": [],
   "source": [
    "fig, axs = plt.subplots(3, 1, figsize=(8, 9),)\n",
    "axs = axs.ravel()\n",
    "for i in range(len(regress_labels)):\n",
    "    data = regress_plot_data[:,:,i]\n",
    "    for j,y in enumerate(data):\n",
    "        axs[i].plot(models, y, label=regress_datasets[j],marker=\".\")\n",
    "    axs[i].set(ylabel=regress_labels[i])\n",
    "plt.tight_layout()\n",
    "plt.savefig(pwd+\"/results/compare_gnn/regress.png\",dpi=200)\n",
    "plt.show()\n",
    "\n",
    "\n",
    "\n",
    "fig, axs = plt.subplots(5, 1, figsize=(8, 12),)\n",
    "axs = axs.ravel()\n",
    "for i in range(len(classify_labels)):\n",
    "    data = classify_plot_data[:,:,i]\n",
    "    for j,y in enumerate(data):\n",
    "        axs[i].plot(models, y, label=classify_datasets[j],marker=\".\")\n",
    "    axs[i].set(ylabel=classify_labels[i])\n",
    "plt.tight_layout()\n",
    "plt.savefig(pwd+\"/results/compare_gnn/classify.png\",dpi=200)"
   ]
  }
 ],
 "metadata": {
  "kernelspec": {
   "display_name": "ml",
   "language": "python",
   "name": "python3"
  },
  "language_info": {
   "name": "python",
   "version": "3.8.16"
  }
 },
 "nbformat": 4,
 "nbformat_minor": 2
}
